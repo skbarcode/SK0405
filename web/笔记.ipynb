{
 "cells": [
  {
   "cell_type": "code",
   "execution_count": null,
   "metadata": {
    "collapsed": true
   },
   "outputs": [],
   "source": [
    "#字段加密\n",
    "#1.在modelForm中做验证，新增一个clean方法\n",
    "from stark.service.v1 import StarkHandler, get_choice_text\n",
    "\n",
    "\n",
    "def clean(self):\n",
    "        password = self.cleaned_date[\"password\"]\n",
    "        self.cleaned_date['password'] = gen_md5(password)\n",
    "        return self.cleaned_data\n",
    "\n",
    "\n",
    "#2.增加一个生成md5的插件\n",
    "import hashlib\n",
    "def gen_md5(origin):\n",
    "    ha = hashlib.md5(\"adfadfsdf\")\n",
    "    ha.update(origin.encode('utf-8'))\n",
    "    return ha.hexdigest()\n",
    "\n",
    "#增加密码重置功能\n",
    "#1.先在Handler的list_display中增加一栏\n",
    "list_display = ['nickname', 'depart', 'name', get_choice_text('性别', \"gender\"),display_reset_pwd]\n",
    "#2.新增方法\n",
    "class UserInfoHandler(StarkHandler):\n",
    "    def display_reset_pwd(self,obj=None,is_header=None):\n",
    "        if is_header:\n",
    "            return '重置密码'\n",
    "        from django.utils.safestring import mark_safe\n",
    "        return mark_safe(\"<a href = '#'>重置密码</a>\")\n"
   ]
  }
 ],
 "metadata": {
  "kernelspec": {
   "display_name": "Python 3",
   "language": "python",
   "name": "python3"
  },
  "language_info": {
   "codemirror_mode": {
    "name": "ipython",
    "version": 2
   },
   "file_extension": ".py",
   "mimetype": "text/x-python",
   "name": "python",
   "nbconvert_exporter": "python",
   "pygments_lexer": "ipython2",
   "version": "2.7.6"
  }
 },
 "nbformat": 4,
 "nbformat_minor": 0
}